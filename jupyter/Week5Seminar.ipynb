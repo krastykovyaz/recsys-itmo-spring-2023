{
 "cells": [
  {
   "cell_type": "code",
   "execution_count": 6,
   "metadata": {},
   "outputs": [],
   "source": [
    "from collections import defaultdict\n",
    "\n",
    "import pandas as pd\n",
    "import numpy as np\n",
    "import scipy.stats as ss\n",
    "\n",
    "import lightfm\n",
    "import lightfm.data as ld\n",
    "import lightfm.evaluation as lv\n",
    "\n",
    "import tqdm\n",
    "import json\n",
    "import optuna\n",
    "\n",
    "import tensorboardX as tb\n",
    "\n",
    "import matplotlib.pyplot as pl\n",
    "import seaborn as sns\n",
    "\n",
    "np.random.seed(31337)"
   ]
  },
  {
   "cell_type": "code",
   "execution_count": null,
   "metadata": {},
   "outputs": [],
   "source": []
  },
  {
   "cell_type": "code",
   "execution_count": 18,
   "metadata": {},
   "outputs": [],
   "source": [
    "DATA_DIR = \"/Users/aleksandr/Desktop/recsys_made2023/botify_recsys/log/experiments/custom/\""
   ]
  },
  {
   "cell_type": "code",
   "execution_count": 20,
   "metadata": {},
   "outputs": [],
   "source": [
    "data = pd.read_json(DATA_DIR + \"data.json\", lines=True).drop_duplicates(subset=[\"user\", \"track\"])"
   ]
  },
  {
   "cell_type": "code",
   "execution_count": 21,
   "metadata": {},
   "outputs": [],
   "source": [
    "positives = data[data[\"time\"] > 0.8].copy()\n",
    "positives[\"test\"] = np.random.random(len(positives)) >= 0.7"
   ]
  },
  {
   "cell_type": "code",
   "execution_count": 22,
   "metadata": {},
   "outputs": [],
   "source": [
    "user_counts = positives[~positives[\"test\"]].groupby(\"user\").size()\n",
    "users = set(user_counts[user_counts >= 5].index.values)"
   ]
  },
  {
   "cell_type": "code",
   "execution_count": 23,
   "metadata": {},
   "outputs": [],
   "source": [
    "track_counts = positives[~positives[\"test\"]].groupby(\"track\").size()\n",
    "tracks = set(track_counts[track_counts >= 5].index.values)"
   ]
  },
  {
   "cell_type": "markdown",
   "metadata": {},
   "source": [
    "## Train LightFM"
   ]
  },
  {
   "cell_type": "code",
   "execution_count": 24,
   "metadata": {},
   "outputs": [
    {
     "data": {
      "text/plain": [
       "(6563, 2410)"
      ]
     },
     "execution_count": 24,
     "metadata": {},
     "output_type": "execute_result"
    }
   ],
   "source": [
    "train_data = positives[~positives[\"test\"] & positives[\"user\"].isin(users) & positives[\"track\"].isin(tracks)]\n",
    "test_data = positives[positives[\"test\"] & positives[\"user\"].isin(users) & positives[\"track\"].isin(tracks)]\n",
    "\n",
    "len(train_data), len(test_data)"
   ]
  },
  {
   "cell_type": "code",
   "execution_count": 25,
   "metadata": {},
   "outputs": [],
   "source": [
    "dataset = ld.Dataset()\n",
    "dataset.fit(users, tracks)"
   ]
  },
  {
   "cell_type": "code",
   "execution_count": 26,
   "metadata": {},
   "outputs": [],
   "source": [
    "train_interactions, _ = dataset.build_interactions(train_data[[\"user\", \"track\"]].itertuples(index=False, name=None))\n",
    "test_interactions, _ = dataset.build_interactions(test_data[[\"user\", \"track\"]].itertuples(index=False, name=None))"
   ]
  },
  {
   "cell_type": "code",
   "execution_count": 27,
   "metadata": {},
   "outputs": [],
   "source": [
    "def fit_model(\n",
    "    epochs=1, \n",
    "    at=10, \n",
    "    loss=\"warp\", \n",
    "    no_components=30, \n",
    "    learning_rate=0.01, \n",
    "    max_sampled=10, \n",
    "    user_alpha=0.0, \n",
    "    item_alpha=0.0, \n",
    "    threads=30, \n",
    "    verbose=False,\n",
    "    patience=3,\n",
    "    epsilon=1e-6\n",
    "):\n",
    "    model = lightfm.LightFM(\n",
    "        no_components=no_components,\n",
    "        loss=loss,\n",
    "        learning_rate=learning_rate,\n",
    "        max_sampled=max_sampled,\n",
    "        user_alpha=user_alpha,\n",
    "        item_alpha=item_alpha,\n",
    "    )\n",
    "\n",
    "    precisions_at = []\n",
    "    \n",
    "    for epoch in range(epochs):\n",
    "        model = model.fit_partial(train_interactions, num_threads=threads)\n",
    "        precision_at = lv.precision_at_k(model, test_interactions, train_interactions=train_interactions, k=at, num_threads=threads)\n",
    "        if verbose:\n",
    "            print(f\"{epoch}:\\t{np.mean(precision_at)} +/- {ss.sem(precision_at) * 1.96}\")\n",
    "        precisions_at.append(np.mean(precision_at))\n",
    "        \n",
    "        if epoch > patience and all([precisions_at[-j] - precisions_at[-patience-1] < epsilon for j in range(1, patience + 1)]):\n",
    "            if verbose:\n",
    "                print(\"Early stopiing!\")\n",
    "            break\n",
    "        \n",
    "    return model, precisions_at\n",
    "\n",
    "\n",
    "def objective(trial):\n",
    "    loss = trial.suggest_categorical(\"loss\", [\"warp\", \"bpr\"])\n",
    "    no_components = trial.suggest_categorical(\"no_components\", [10, 30, 50])\n",
    "    learning_rate = trial.suggest_categorical(\"learning_rate\", [0.0001, 0.001, 0.01])\n",
    "    max_sampled = trial.suggest_categorical(\"max_sampled\", [10, 20, 50, 100])\n",
    "    user_alpha = trial.suggest_categorical(\"user_alpha\", [0.0, 0.0001])\n",
    "    item_alpha = trial.suggest_categorical(\"item_alpha\", [0.0, 0.0001])\n",
    "    \n",
    "    model, precisions_at = fit_model(\n",
    "        epochs=5, \n",
    "        at=10,\n",
    "        loss=loss,\n",
    "        no_components=no_components, \n",
    "        learning_rate=learning_rate, \n",
    "        max_sampled=max_sampled, \n",
    "        user_alpha=user_alpha, \n",
    "        item_alpha=item_alpha,\n",
    "    )\n",
    "    \n",
    "    return precisions_at[-1]\n"
   ]
  },
  {
   "cell_type": "code",
   "execution_count": 28,
   "metadata": {},
   "outputs": [],
   "source": [
    "# study = optuna.create_study(direction=\"maximize\")\n",
    "# study.optimize(objective, n_trials=30)\n",
    "# best_params = study.best_params\n",
    "\n",
    "best_params = {\n",
    "    'loss': 'warp',\n",
    "    'no_components': 50,\n",
    "    'learning_rate': 0.01,\n",
    "    'max_sampled': 50,\n",
    "    'user_alpha': 0.0,\n",
    "    'item_alpha': 0.0001\n",
    "}"
   ]
  },
  {
   "cell_type": "code",
   "execution_count": 29,
   "metadata": {
    "tags": []
   },
   "outputs": [
    {
     "name": "stdout",
     "output_type": "stream",
     "text": [
      "0:\t0.01724598929286003 +/- 0.003240704235528677\n",
      "1:\t0.01711229979991913 +/- 0.0032759800207188593\n",
      "2:\t0.01724598929286003 +/- 0.00328286068498673\n",
      "3:\t0.01671122945845127 +/- 0.003255080400125758\n",
      "4:\t0.01724598929286003 +/- 0.0033244826568960195\n",
      "5:\t0.01778074912726879 +/- 0.0033717019596181826\n",
      "6:\t0.01818181946873665 +/- 0.003451517718519844\n",
      "7:\t0.018315507099032402 +/- 0.0034973767999078665\n",
      "8:\t0.018983958289027214 +/- 0.00344922656651011\n",
      "9:\t0.01885026879608631 +/- 0.0034028535644021235\n",
      "10:\t0.01925133727490902 +/- 0.00342156134649605\n",
      "11:\t0.01978609710931778 +/- 0.0034058369742959445\n",
      "12:\t0.019518716260790825 +/- 0.003433842850330096\n",
      "13:\t0.020053476095199585 +/- 0.003497495068416409\n",
      "14:\t0.020053476095199585 +/- 0.003517097739992581\n",
      "15:\t0.01978609524667263 +/- 0.003485648728620567\n",
      "16:\t0.01978609710931778 +/- 0.0034459740490392896\n",
      "Early stopiing!\n"
     ]
    }
   ],
   "source": [
    "model, precisions_at = fit_model(\n",
    "    epochs=200,\n",
    "    at=10,\n",
    "    loss=best_params[\"loss\"],\n",
    "    no_components=best_params[\"no_components\"], \n",
    "    learning_rate=best_params[\"learning_rate\"], \n",
    "    max_sampled=best_params[\"max_sampled\"],\n",
    "    user_alpha=best_params[\"user_alpha\"],\n",
    "    item_alpha=best_params[\"item_alpha\"],\n",
    "    verbose=True,\n",
    ")"
   ]
  },
  {
   "cell_type": "code",
   "execution_count": 30,
   "metadata": {},
   "outputs": [
    {
     "data": {
      "image/png": "[encoded data removed]",
      "text/plain": [
       "<Figure size 640x480 with 1 Axes>"
      ]
     },
     "metadata": {},
     "output_type": "display_data"
    }
   ],
   "source": [
    "figure, ax = pl.subplots()\n",
    "\n",
    "ax.plot(np.arange(len(precisions_at)), precisions_at)\n",
    "\n",
    "pass"
   ]
  },
  {
   "cell_type": "markdown",
   "metadata": {},
   "source": [
    "## Save track embeddings"
   ]
  },
  {
   "cell_type": "code",
   "execution_count": 31,
   "metadata": {},
   "outputs": [],
   "source": [
    "biases, embeddings = model.get_item_representations()"
   ]
  },
  {
   "cell_type": "code",
   "execution_count": null,
   "metadata": {},
   "outputs": [],
   "source": [
    "model.item_biases *= 0.0"
   ]
  },
  {
   "cell_type": "code",
   "execution_count": 35,
   "metadata": {},
   "outputs": [],
   "source": [
    "DATA_DIR = '/Users/aleksandr/Desktop/recsys_made2023/botify_recsys/data/'"
   ]
  },
  {
   "cell_type": "code",
   "execution_count": 36,
   "metadata": {},
   "outputs": [],
   "source": [
    "track_meta = pd.read_json(DATA_DIR + \"tracks.json\", lines=True)\n",
    "track_meta[\"dataset_index\"] = track_meta[\"track\"].map(lambda t: dataset.mapping()[2].get(t))"
   ]
  },
  {
   "cell_type": "code",
   "execution_count": 37,
   "metadata": {},
   "outputs": [],
   "source": [
    "dataset_tracks = track_meta[pd.notnull(track_meta[\"dataset_index\"])].sort_values(\"dataset_index\")"
   ]
  },
  {
   "cell_type": "code",
   "execution_count": 38,
   "metadata": {},
   "outputs": [],
   "source": [
    "writer = tb.SummaryWriter(comment='msd_ligtfm_embeddings', log_dir=DATA_DIR + \"tb\")\n",
    "writer.add_embedding(embeddings, metadata=list(dataset_tracks[[\"artist\", \"title\"]].itertuples(index=False, name=None)), tag=\"lightfm\", metadata_header=[\"artist\", \"title\"])\n",
    "writer.close()"
   ]
  },
  {
   "cell_type": "markdown",
   "metadata": {},
   "source": [
    "## Compute top recommendations"
   ]
  },
  {
   "cell_type": "code",
   "execution_count": 39,
   "metadata": {},
   "outputs": [
    {
     "name": "stderr",
     "output_type": "stream",
     "text": [
      "50000it [00:05, 9024.54it/s] \n"
     ]
    }
   ],
   "source": [
    "k = 20\n",
    "max_tracks_from_same_artist = 5\n",
    "\n",
    "with open(DATA_DIR + f\"recommendations_{k}_{max_tracks_from_same_artist}.json\", \"w\") as rf:\n",
    "    for _, track in tqdm.tqdm(track_meta.iterrows()):\n",
    "        j = track[\"dataset_index\"]\n",
    "        \n",
    "        recommendations = []\n",
    "        if pd.notna(j):\n",
    "            embedding = embeddings[int(j)]\n",
    "            neighbours = np.argsort(-np.dot(embeddings, embedding))\n",
    "            \n",
    "            artists = defaultdict(int)\n",
    "            for neighbour in neighbours:\n",
    "                recommended_track = dataset_tracks[dataset_tracks[\"dataset_index\"] == neighbour].iloc[0]\n",
    "                \n",
    "                recommendation = int(recommended_track[\"track\"])\n",
    "                if recommendation == track[\"track\"]:\n",
    "                    continue\n",
    "                \n",
    "                artist = recommended_track[\"artist\"]\n",
    "                if artists[artist] >= max_tracks_from_same_artist:\n",
    "                    continue\n",
    "                \n",
    "                recommendations.append(recommendation)\n",
    "                artists[artist] += 1\n",
    "\n",
    "                if len(recommendations) == k:\n",
    "                    break\n",
    "         \n",
    "        track_with_recommendations = dict(track)\n",
    "        track_with_recommendations[\"recommendations\"] = recommendations\n",
    "        \n",
    "        rf.write(json.dumps(track_with_recommendations) + \"\\n\")"
   ]
  },
  {
   "cell_type": "markdown",
   "metadata": {},
   "source": [
    "## How many unique artist per recommendation list?"
   ]
  },
  {
   "cell_type": "code",
   "execution_count": 40,
   "metadata": {},
   "outputs": [],
   "source": [
    "dataset_track_artists = dict(zip(\n",
    "    dataset_tracks[\"track\"].values.tolist(),\n",
    "    dataset_tracks[\"artist\"].values.tolist(),\n",
    "))"
   ]
  },
  {
   "cell_type": "code",
   "execution_count": 41,
   "metadata": {},
   "outputs": [
    {
     "name": "stdout",
     "output_type": "stream",
     "text": [
      "Forever by Drake / Kanye West / Lil Wayne / Eminem \n",
      "===\n",
      "California Swag District\n",
      "Adam Lambert\n",
      "B.o.B\n",
      "Train\n",
      "Harmonia\n",
      "Young Money featuring Lloyd\n",
      "Sean Kingston and Justin Bieber\n",
      "Miley Cyrus\n",
      "Jason Derulo\n",
      "Taylor Swift\n",
      "Travie McCoy\n",
      "Charttraxx Karaoke\n",
      "Björk\n",
      "J. Karjalainen & Mustat Lasit\n",
      "Lil Wayne / Eminem\n",
      "John Mayer\n",
      "Three Drives\n",
      "Iyaz\n",
      "Dwight Yoakam\n",
      "Usher Featuring Lil' Jon & Ludacris\n"
     ]
    }
   ],
   "source": [
    "recs = pd.read_json(DATA_DIR + f\"recommendations_{k}_{max_tracks_from_same_artist}.json\", lines=True)\n",
    "recs = recs[recs[\"dataset_index\"].notnull()]\n",
    "\n",
    "sample = recs.sample(frac=0.1).iloc[0]\n",
    "\n",
    "print(sample[\"title\"], \"by\" , sample[\"artist\"], \"\\n===\")\n",
    "print(\"\\n\".join([dataset_track_artists[track] for track in sample[\"recommendations\"]]))"
   ]
  },
  {
   "cell_type": "code",
   "execution_count": 42,
   "metadata": {},
   "outputs": [
    {
     "data": {
      "text/plain": [
       "17    273\n",
       "20    236\n",
       "18     78\n",
       "16     73\n",
       "19     32\n",
       "15      6\n",
       "14      1\n",
       "13      1\n",
       "Name: recommendations, dtype: int64"
      ]
     },
     "execution_count": 42,
     "metadata": {},
     "output_type": "execute_result"
    }
   ],
   "source": [
    "def count_artists(tracks):\n",
    "    return len(\n",
    "        set([dataset_track_artists[track] for track in tracks])\n",
    "    )\n",
    "\n",
    "\n",
    "artist_counts = recs[\"recommendations\"].map(count_artists)\n",
    "artist_counts.value_counts()"
   ]
  },
  {
   "cell_type": "code",
   "execution_count": null,
   "metadata": {},
   "outputs": [],
   "source": []
  }
 ],
 "metadata": {
  "kernelspec": {
   "display_name": "Python 3 (ipykernel)",
   "language": "python",
   "name": "python3"
  },
  "language_info": {
   "codemirror_mode": {
    "name": "ipython",
    "version": 3
   },
   "file_extension": ".py",
   "mimetype": "text/x-python",
   "name": "python",
   "nbconvert_exporter": "python",
   "pygments_lexer": "ipython3",
   "version": "3.7.2"
  }
 },
 "nbformat": 4,
 "nbformat_minor": 4
}
