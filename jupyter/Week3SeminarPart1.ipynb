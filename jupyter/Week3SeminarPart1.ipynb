{
 "cells": [
  {
   "cell_type": "code",
   "execution_count": 5,
   "metadata": {
    "tags": []
   },
   "outputs": [],
   "source": [
    "import tqdm\n",
    "import json\n",
    "\n",
    "import pandas as pd\n",
    "import numpy as np\n",
    "\n",
    "from sklearn.metrics.pairwise import cosine_similarity"
   ]
  },
  {
   "cell_type": "markdown",
   "metadata": {},
   "source": [
    "## User-based Collaborative Filtering"
   ]
  },
  {
   "cell_type": "markdown",
   "metadata": {},
   "source": [
    "#### Основная идея: \n",
    "Рекомендовать пользователю треки, которые понравились похожим на него пользователям\n",
    "\n",
    "$$\\hat r_{ui} = h^{-1} \\left( \\frac{\\sum_{v \\in N_i(u)} w_{uv} h(r_{vi})}{\\sum_{v \\in N_i(u)} w_{uv}} \\right)$$\n",
    "\n",
    "$N_i(u)$ - соседи пользователя $u$, которые оценили айтем $i$,\n",
    "$w_{uv}, w_{ij}$ - веса соседей, \n",
    "$h$ - функция нормализации\n",
    "\n",
    "\n",
    "\n",
    "**Нормализация**: В качестве функции нормализации используем среднее время прослушивания\n",
    "\n",
    "**Веса**: Похожих пользователей будем искать по *cosine similarity*\n",
    "\n",
    "**Отсутствующие данные**: заполним средним времнем прослушивания по пользователю\n",
    "\n",
    "**Соседи**: в качестве соседей будем рассматривать всех пользователей. Q: Как это упростит формулу?"
   ]
  },
  {
   "cell_type": "code",
   "execution_count": null,
   "metadata": {},
   "outputs": [],
   "source": []
  },
  {
   "cell_type": "code",
   "execution_count": 6,
   "metadata": {
    "tags": []
   },
   "outputs": [
    {
     "data": {
      "text/html": [
       "<div>\n",
       "<style scoped>\n",
       "    .dataframe tbody tr th:only-of-type {\n",
       "        vertical-align: middle;\n",
       "    }\n",
       "\n",
       "    .dataframe tbody tr th {\n",
       "        vertical-align: top;\n",
       "    }\n",
       "\n",
       "    .dataframe thead th {\n",
       "        text-align: right;\n",
       "    }\n",
       "</style>\n",
       "<table border=\"1\" class=\"dataframe\">\n",
       "  <thead>\n",
       "    <tr style=\"text-align: right;\">\n",
       "      <th></th>\n",
       "      <th>user</th>\n",
       "      <th>time</th>\n",
       "      <th>track</th>\n",
       "    </tr>\n",
       "  </thead>\n",
       "  <tbody>\n",
       "    <tr>\n",
       "      <th>0</th>\n",
       "      <td>404</td>\n",
       "      <td>1.0</td>\n",
       "      <td>1084</td>\n",
       "    </tr>\n",
       "    <tr>\n",
       "      <th>1</th>\n",
       "      <td>404</td>\n",
       "      <td>1.0</td>\n",
       "      <td>1084</td>\n",
       "    </tr>\n",
       "    <tr>\n",
       "      <th>2</th>\n",
       "      <td>404</td>\n",
       "      <td>1.0</td>\n",
       "      <td>1084</td>\n",
       "    </tr>\n",
       "    <tr>\n",
       "      <th>3</th>\n",
       "      <td>404</td>\n",
       "      <td>1.0</td>\n",
       "      <td>1084</td>\n",
       "    </tr>\n",
       "    <tr>\n",
       "      <th>4</th>\n",
       "      <td>404</td>\n",
       "      <td>0.0</td>\n",
       "      <td>487</td>\n",
       "    </tr>\n",
       "  </tbody>\n",
       "</table>\n",
       "</div>"
      ],
      "text/plain": [
       "   user  time  track\n",
       "0   404   1.0   1084\n",
       "1   404   1.0   1084\n",
       "2   404   1.0   1084\n",
       "3   404   1.0   1084\n",
       "4   404   0.0    487"
      ]
     },
     "execution_count": 6,
     "metadata": {},
     "output_type": "execute_result"
    }
   ],
   "source": [
    "BOTIFY_DATA_DIR = \"/Users/aleksandr/Desktop/recsys_made2023/botify_recsys/log/experiments/random/data.json\"\n",
    "\n",
    "data = pd.read_json(BOTIFY_DATA_DIR, lines=True)[[\"user\", \"time\", \"track\"]].copy()\n",
    "\n",
    "data.head()"
   ]
  },
  {
   "cell_type": "code",
   "execution_count": 7,
   "metadata": {
    "tags": []
   },
   "outputs": [
    {
     "data": {
      "text/html": [
       "<div>\n",
       "<style scoped>\n",
       "    .dataframe tbody tr th:only-of-type {\n",
       "        vertical-align: middle;\n",
       "    }\n",
       "\n",
       "    .dataframe tbody tr th {\n",
       "        vertical-align: top;\n",
       "    }\n",
       "\n",
       "    .dataframe thead th {\n",
       "        text-align: right;\n",
       "    }\n",
       "</style>\n",
       "<table border=\"1\" class=\"dataframe\">\n",
       "  <thead>\n",
       "    <tr style=\"text-align: right;\">\n",
       "      <th></th>\n",
       "      <th>user</th>\n",
       "      <th>time</th>\n",
       "      <th>track</th>\n",
       "      <th>normalized_time</th>\n",
       "    </tr>\n",
       "  </thead>\n",
       "  <tbody>\n",
       "    <tr>\n",
       "      <th>0</th>\n",
       "      <td>404</td>\n",
       "      <td>1.0</td>\n",
       "      <td>1084</td>\n",
       "      <td>0.83</td>\n",
       "    </tr>\n",
       "    <tr>\n",
       "      <th>1</th>\n",
       "      <td>404</td>\n",
       "      <td>1.0</td>\n",
       "      <td>1084</td>\n",
       "      <td>0.83</td>\n",
       "    </tr>\n",
       "    <tr>\n",
       "      <th>2</th>\n",
       "      <td>404</td>\n",
       "      <td>1.0</td>\n",
       "      <td>1084</td>\n",
       "      <td>0.83</td>\n",
       "    </tr>\n",
       "    <tr>\n",
       "      <th>3</th>\n",
       "      <td>404</td>\n",
       "      <td>1.0</td>\n",
       "      <td>1084</td>\n",
       "      <td>0.83</td>\n",
       "    </tr>\n",
       "    <tr>\n",
       "      <th>4</th>\n",
       "      <td>404</td>\n",
       "      <td>0.0</td>\n",
       "      <td>487</td>\n",
       "      <td>-0.17</td>\n",
       "    </tr>\n",
       "  </tbody>\n",
       "</table>\n",
       "</div>"
      ],
      "text/plain": [
       "   user  time  track  normalized_time\n",
       "0   404   1.0   1084             0.83\n",
       "1   404   1.0   1084             0.83\n",
       "2   404   1.0   1084             0.83\n",
       "3   404   1.0   1084             0.83\n",
       "4   404   0.0    487            -0.17"
      ]
     },
     "execution_count": 7,
     "metadata": {},
     "output_type": "execute_result"
    }
   ],
   "source": [
    "data[\"normalized_time\"] = data.groupby(\"user\")[\"time\"].transform(lambda time: time - time.mean())\n",
    "\n",
    "data.head()"
   ]
  },
  {
   "cell_type": "code",
   "execution_count": 8,
   "metadata": {
    "tags": []
   },
   "outputs": [
    {
     "name": "stdout",
     "output_type": "stream",
     "text": [
      "Interactions matrix: shape=(9443, 49397), sparsity=0.0005827132144725434\n"
     ]
    }
   ],
   "source": [
    "interactions = pd.pivot_table(data, values=\"normalized_time\", index=\"user\", columns=\"track\").fillna(0)\n",
    "\n",
    "print(f\"Interactions matrix: shape={interactions.shape}, sparsity={(interactions != 0).values.sum() / interactions.size}\")"
   ]
  },
  {
   "cell_type": "code",
   "execution_count": 9,
   "metadata": {
    "tags": []
   },
   "outputs": [
    {
     "name": "stdout",
     "output_type": "stream",
     "text": [
      "Mean positive neighbours per user: 116.22429312718415\n"
     ]
    }
   ],
   "source": [
    "similarity_matrix = cosine_similarity(interactions)\n",
    "np.fill_diagonal(similarity_matrix, 0)\n",
    "\n",
    "print(f\"Mean positive neighbours per user: {(similarity_matrix > 0).sum(axis=1).mean()}\")"
   ]
  },
  {
   "cell_type": "code",
   "execution_count": 10,
   "metadata": {
    "tags": []
   },
   "outputs": [
    {
     "name": "stdout",
     "output_type": "stream",
     "text": [
      "Mean negative neighbours per user: 62.69215291750503\n"
     ]
    }
   ],
   "source": [
    "print(f\"Mean negative neighbours per user: {(similarity_matrix < 0).sum(axis=1).mean()}\")"
   ]
  },
  {
   "cell_type": "code",
   "execution_count": 11,
   "metadata": {
    "tags": []
   },
   "outputs": [
    {
     "data": {
      "text/html": [
       "<div>\n",
       "<style scoped>\n",
       "    .dataframe tbody tr th:only-of-type {\n",
       "        vertical-align: middle;\n",
       "    }\n",
       "\n",
       "    .dataframe tbody tr th {\n",
       "        vertical-align: top;\n",
       "    }\n",
       "\n",
       "    .dataframe thead th {\n",
       "        text-align: right;\n",
       "    }\n",
       "</style>\n",
       "<table border=\"1\" class=\"dataframe\">\n",
       "  <thead>\n",
       "    <tr style=\"text-align: right;\">\n",
       "      <th>track</th>\n",
       "      <th>1</th>\n",
       "      <th>2</th>\n",
       "      <th>3</th>\n",
       "      <th>4</th>\n",
       "      <th>5</th>\n",
       "    </tr>\n",
       "    <tr>\n",
       "      <th>user</th>\n",
       "      <th></th>\n",
       "      <th></th>\n",
       "      <th></th>\n",
       "      <th></th>\n",
       "      <th></th>\n",
       "    </tr>\n",
       "  </thead>\n",
       "  <tbody>\n",
       "    <tr>\n",
       "      <th>0</th>\n",
       "      <td>0.0</td>\n",
       "      <td>0.0</td>\n",
       "      <td>0.0</td>\n",
       "      <td>0.0</td>\n",
       "      <td>0.0</td>\n",
       "    </tr>\n",
       "    <tr>\n",
       "      <th>1</th>\n",
       "      <td>0.0</td>\n",
       "      <td>0.0</td>\n",
       "      <td>0.0</td>\n",
       "      <td>0.0</td>\n",
       "      <td>0.0</td>\n",
       "    </tr>\n",
       "    <tr>\n",
       "      <th>2</th>\n",
       "      <td>0.0</td>\n",
       "      <td>0.0</td>\n",
       "      <td>0.0</td>\n",
       "      <td>0.0</td>\n",
       "      <td>0.0</td>\n",
       "    </tr>\n",
       "    <tr>\n",
       "      <th>3</th>\n",
       "      <td>0.0</td>\n",
       "      <td>0.0</td>\n",
       "      <td>0.0</td>\n",
       "      <td>0.0</td>\n",
       "      <td>0.0</td>\n",
       "    </tr>\n",
       "    <tr>\n",
       "      <th>4</th>\n",
       "      <td>0.0</td>\n",
       "      <td>0.0</td>\n",
       "      <td>0.0</td>\n",
       "      <td>0.0</td>\n",
       "      <td>0.0</td>\n",
       "    </tr>\n",
       "  </tbody>\n",
       "</table>\n",
       "</div>"
      ],
      "text/plain": [
       "track    1    2    3    4    5\n",
       "user                          \n",
       "0      0.0  0.0  0.0  0.0  0.0\n",
       "1      0.0  0.0  0.0  0.0  0.0\n",
       "2      0.0  0.0  0.0  0.0  0.0\n",
       "3      0.0  0.0  0.0  0.0  0.0\n",
       "4      0.0  0.0  0.0  0.0  0.0"
      ]
     },
     "execution_count": 11,
     "metadata": {},
     "output_type": "execute_result"
    }
   ],
   "source": [
    "# TODO: Compute proper user-based scores\n",
    "# TODO: expected size: observed users x observed tracks\n",
    "scores_matrix = np.matmul(similarity_matrix, interactions.values)\n",
    "\n",
    "scores = pd.DataFrame(\n",
    "    scores_matrix,\n",
    "    index=interactions.index,\n",
    "    columns=interactions.columns\n",
    ")\n",
    "\n",
    "scores[[1, 2, 3, 4, 5]].head()"
   ]
  },
  {
   "cell_type": "markdown",
   "metadata": {},
   "source": [
    "## Глянем на рекомендации"
   ]
  },
  {
   "cell_type": "code",
   "execution_count": 14,
   "metadata": {
    "tags": []
   },
   "outputs": [
    {
     "data": {
      "text/html": [
       "<div>\n",
       "<style scoped>\n",
       "    .dataframe tbody tr th:only-of-type {\n",
       "        vertical-align: middle;\n",
       "    }\n",
       "\n",
       "    .dataframe tbody tr th {\n",
       "        vertical-align: top;\n",
       "    }\n",
       "\n",
       "    .dataframe thead th {\n",
       "        text-align: right;\n",
       "    }\n",
       "</style>\n",
       "<table border=\"1\" class=\"dataframe\">\n",
       "  <thead>\n",
       "    <tr style=\"text-align: right;\">\n",
       "      <th></th>\n",
       "      <th>artist</th>\n",
       "      <th>title</th>\n",
       "    </tr>\n",
       "    <tr>\n",
       "      <th>track</th>\n",
       "      <th></th>\n",
       "      <th></th>\n",
       "    </tr>\n",
       "  </thead>\n",
       "  <tbody>\n",
       "    <tr>\n",
       "      <th>0</th>\n",
       "      <td>Jack Johnson</td>\n",
       "      <td>The Cove</td>\n",
       "    </tr>\n",
       "    <tr>\n",
       "      <th>1</th>\n",
       "      <td>Billy Preston</td>\n",
       "      <td>Nothing from Nothing</td>\n",
       "    </tr>\n",
       "    <tr>\n",
       "      <th>2</th>\n",
       "      <td>Paco De Lucia</td>\n",
       "      <td>Entre Dos Aguas</td>\n",
       "    </tr>\n",
       "    <tr>\n",
       "      <th>3</th>\n",
       "      <td>Josh Rouse</td>\n",
       "      <td>Under Cold Blue Stars</td>\n",
       "    </tr>\n",
       "    <tr>\n",
       "      <th>4</th>\n",
       "      <td>The Dead 60s</td>\n",
       "      <td>Riot Radio (Soundtrack Version)</td>\n",
       "    </tr>\n",
       "  </tbody>\n",
       "</table>\n",
       "</div>"
      ],
      "text/plain": [
       "              artist                            title\n",
       "track                                                \n",
       "0       Jack Johnson                         The Cove\n",
       "1      Billy Preston             Nothing from Nothing\n",
       "2      Paco De Lucia                  Entre Dos Aguas\n",
       "3         Josh Rouse            Under Cold Blue Stars\n",
       "4       The Dead 60s  Riot Radio (Soundtrack Version)"
      ]
     },
     "execution_count": 14,
     "metadata": {},
     "output_type": "execute_result"
    }
   ],
   "source": [
    "products = pd.read_json(\"/Users/aleksandr/Desktop/recsys_made2023/botify_recsys/data/tracks.json\", lines=True).set_index(\"track\")\n",
    "products.head()"
   ]
  },
  {
   "cell_type": "code",
   "execution_count": 19,
   "metadata": {
    "tags": []
   },
   "outputs": [
    {
     "data": {
      "text/html": [
       "<div>\n",
       "<style scoped>\n",
       "    .dataframe tbody tr th:only-of-type {\n",
       "        vertical-align: middle;\n",
       "    }\n",
       "\n",
       "    .dataframe tbody tr th {\n",
       "        vertical-align: top;\n",
       "    }\n",
       "\n",
       "    .dataframe thead th {\n",
       "        text-align: right;\n",
       "    }\n",
       "</style>\n",
       "<table border=\"1\" class=\"dataframe\">\n",
       "  <thead>\n",
       "    <tr style=\"text-align: right;\">\n",
       "      <th></th>\n",
       "      <th>user</th>\n",
       "      <th>time</th>\n",
       "      <th>track</th>\n",
       "      <th>normalized_time</th>\n",
       "    </tr>\n",
       "  </thead>\n",
       "  <tbody>\n",
       "    <tr>\n",
       "      <th>191555</th>\n",
       "      <td>942</td>\n",
       "      <td>1.00</td>\n",
       "      <td>27804</td>\n",
       "      <td>0.718333</td>\n",
       "    </tr>\n",
       "    <tr>\n",
       "      <th>191557</th>\n",
       "      <td>942</td>\n",
       "      <td>0.02</td>\n",
       "      <td>19715</td>\n",
       "      <td>-0.261667</td>\n",
       "    </tr>\n",
       "    <tr>\n",
       "      <th>191560</th>\n",
       "      <td>942</td>\n",
       "      <td>0.29</td>\n",
       "      <td>21320</td>\n",
       "      <td>0.008333</td>\n",
       "    </tr>\n",
       "    <tr>\n",
       "      <th>191564</th>\n",
       "      <td>942</td>\n",
       "      <td>0.34</td>\n",
       "      <td>1781</td>\n",
       "      <td>0.058333</td>\n",
       "    </tr>\n",
       "    <tr>\n",
       "      <th>191567</th>\n",
       "      <td>942</td>\n",
       "      <td>0.03</td>\n",
       "      <td>33982</td>\n",
       "      <td>-0.251667</td>\n",
       "    </tr>\n",
       "    <tr>\n",
       "      <th>191569</th>\n",
       "      <td>942</td>\n",
       "      <td>0.01</td>\n",
       "      <td>5474</td>\n",
       "      <td>-0.271667</td>\n",
       "    </tr>\n",
       "  </tbody>\n",
       "</table>\n",
       "</div>"
      ],
      "text/plain": [
       "        user  time  track  normalized_time\n",
       "191555   942  1.00  27804         0.718333\n",
       "191557   942  0.02  19715        -0.261667\n",
       "191560   942  0.29  21320         0.008333\n",
       "191564   942  0.34   1781         0.058333\n",
       "191567   942  0.03  33982        -0.251667\n",
       "191569   942  0.01   5474        -0.271667"
      ]
     },
     "execution_count": 19,
     "metadata": {},
     "output_type": "execute_result"
    }
   ],
   "source": [
    "user = np.random.choice(scores.index)\n",
    "k = 10\n",
    "\n",
    "data[data[\"user\"] == user]"
   ]
  },
  {
   "cell_type": "code",
   "execution_count": null,
   "metadata": {
    "tags": []
   },
   "outputs": [],
   "source": []
  },
  {
   "cell_type": "code",
   "execution_count": 20,
   "metadata": {
    "tags": []
   },
   "outputs": [
    {
     "data": {
      "text/html": [
       "<div>\n",
       "<style scoped>\n",
       "    .dataframe tbody tr th:only-of-type {\n",
       "        vertical-align: middle;\n",
       "    }\n",
       "\n",
       "    .dataframe tbody tr th {\n",
       "        vertical-align: top;\n",
       "    }\n",
       "\n",
       "    .dataframe thead th {\n",
       "        text-align: right;\n",
       "    }\n",
       "</style>\n",
       "<table border=\"1\" class=\"dataframe\">\n",
       "  <thead>\n",
       "    <tr style=\"text-align: right;\">\n",
       "      <th></th>\n",
       "      <th>score</th>\n",
       "      <th>artist</th>\n",
       "      <th>title</th>\n",
       "    </tr>\n",
       "    <tr>\n",
       "      <th>track</th>\n",
       "      <th></th>\n",
       "      <th></th>\n",
       "      <th></th>\n",
       "    </tr>\n",
       "  </thead>\n",
       "  <tbody>\n",
       "    <tr>\n",
       "      <th>1781</th>\n",
       "      <td>0.057882</td>\n",
       "      <td>The Temper Trap</td>\n",
       "      <td>Soldier On</td>\n",
       "    </tr>\n",
       "    <tr>\n",
       "      <th>2416</th>\n",
       "      <td>0.048540</td>\n",
       "      <td>Ratt</td>\n",
       "      <td>Lay It Down (2007 Remastered)</td>\n",
       "    </tr>\n",
       "    <tr>\n",
       "      <th>11382</th>\n",
       "      <td>0.034651</td>\n",
       "      <td>Slightly Stoopid</td>\n",
       "      <td>This Joint</td>\n",
       "    </tr>\n",
       "    <tr>\n",
       "      <th>17625</th>\n",
       "      <td>0.034651</td>\n",
       "      <td>Spoon</td>\n",
       "      <td>I Saw The Light</td>\n",
       "    </tr>\n",
       "    <tr>\n",
       "      <th>4675</th>\n",
       "      <td>0.034651</td>\n",
       "      <td>Pepper</td>\n",
       "      <td>Face Plant (LP Version)</td>\n",
       "    </tr>\n",
       "    <tr>\n",
       "      <th>47910</th>\n",
       "      <td>0.029502</td>\n",
       "      <td>Wolf Parade</td>\n",
       "      <td>Soldier's Grin</td>\n",
       "    </tr>\n",
       "    <tr>\n",
       "      <th>159</th>\n",
       "      <td>0.029502</td>\n",
       "      <td>Dwight Yoakam</td>\n",
       "      <td>You're The One</td>\n",
       "    </tr>\n",
       "    <tr>\n",
       "      <th>16119</th>\n",
       "      <td>0.029136</td>\n",
       "      <td>The Coffee Club Orchestra</td>\n",
       "      <td>Overture</td>\n",
       "    </tr>\n",
       "    <tr>\n",
       "      <th>30803</th>\n",
       "      <td>0.028631</td>\n",
       "      <td>Lisa Loeb</td>\n",
       "      <td>Furious Rose</td>\n",
       "    </tr>\n",
       "    <tr>\n",
       "      <th>8784</th>\n",
       "      <td>0.028631</td>\n",
       "      <td>The Smiths</td>\n",
       "      <td>These Things Take Time</td>\n",
       "    </tr>\n",
       "  </tbody>\n",
       "</table>\n",
       "</div>"
      ],
      "text/plain": [
       "          score                     artist                          title\n",
       "track                                                                    \n",
       "1781   0.057882            The Temper Trap                     Soldier On\n",
       "2416   0.048540                       Ratt  Lay It Down (2007 Remastered)\n",
       "11382  0.034651           Slightly Stoopid                     This Joint\n",
       "17625  0.034651                      Spoon                I Saw The Light\n",
       "4675   0.034651                     Pepper        Face Plant (LP Version)\n",
       "47910  0.029502                Wolf Parade                 Soldier's Grin\n",
       "159    0.029502              Dwight Yoakam                 You're The One\n",
       "16119  0.029136  The Coffee Club Orchestra                       Overture\n",
       "30803  0.028631                  Lisa Loeb                   Furious Rose\n",
       "8784   0.028631                 The Smiths         These Things Take Time"
      ]
     },
     "execution_count": 20,
     "metadata": {},
     "output_type": "execute_result"
    }
   ],
   "source": [
    "user_scores = pd.merge(\n",
    "    scores.loc[user].sort_values(ascending=False)[:k].to_frame(\"score\"),\n",
    "    products, \n",
    "    left_index=True, \n",
    "    right_index=True,\n",
    "    how=\"inner\"\n",
    ")\n",
    "\n",
    "user_scores"
   ]
  },
  {
   "cell_type": "code",
   "execution_count": 21,
   "metadata": {
    "tags": []
   },
   "outputs": [
    {
     "data": {
      "text/html": [
       "<div>\n",
       "<style scoped>\n",
       "    .dataframe tbody tr th:only-of-type {\n",
       "        vertical-align: middle;\n",
       "    }\n",
       "\n",
       "    .dataframe tbody tr th {\n",
       "        vertical-align: top;\n",
       "    }\n",
       "\n",
       "    .dataframe thead th {\n",
       "        text-align: right;\n",
       "    }\n",
       "</style>\n",
       "<table border=\"1\" class=\"dataframe\">\n",
       "  <thead>\n",
       "    <tr style=\"text-align: right;\">\n",
       "      <th></th>\n",
       "      <th>time</th>\n",
       "      <th>artist</th>\n",
       "      <th>title</th>\n",
       "    </tr>\n",
       "    <tr>\n",
       "      <th>track</th>\n",
       "      <th></th>\n",
       "      <th></th>\n",
       "      <th></th>\n",
       "    </tr>\n",
       "  </thead>\n",
       "  <tbody>\n",
       "    <tr>\n",
       "      <th>27804</th>\n",
       "      <td>0.718333</td>\n",
       "      <td>Kenny Rogers</td>\n",
       "      <td>Misty</td>\n",
       "    </tr>\n",
       "    <tr>\n",
       "      <th>1781</th>\n",
       "      <td>0.058333</td>\n",
       "      <td>The Temper Trap</td>\n",
       "      <td>Soldier On</td>\n",
       "    </tr>\n",
       "    <tr>\n",
       "      <th>21320</th>\n",
       "      <td>0.008333</td>\n",
       "      <td>Blake Shelton</td>\n",
       "      <td>That's What I Call Home (Album Version)</td>\n",
       "    </tr>\n",
       "    <tr>\n",
       "      <th>33982</th>\n",
       "      <td>-0.251667</td>\n",
       "      <td>Michael Jackson</td>\n",
       "      <td>Childhood (Theme From \"Free Willy 2\")</td>\n",
       "    </tr>\n",
       "    <tr>\n",
       "      <th>19715</th>\n",
       "      <td>-0.261667</td>\n",
       "      <td>Okkervil River</td>\n",
       "      <td>Pop Lie</td>\n",
       "    </tr>\n",
       "    <tr>\n",
       "      <th>5474</th>\n",
       "      <td>-0.271667</td>\n",
       "      <td>Black Eyed Peas</td>\n",
       "      <td>What It Is</td>\n",
       "    </tr>\n",
       "  </tbody>\n",
       "</table>\n",
       "</div>"
      ],
      "text/plain": [
       "           time           artist                                    title\n",
       "track                                                                    \n",
       "27804  0.718333     Kenny Rogers                                    Misty\n",
       "1781   0.058333  The Temper Trap                               Soldier On\n",
       "21320  0.008333    Blake Shelton  That's What I Call Home (Album Version)\n",
       "33982 -0.251667  Michael Jackson    Childhood (Theme From \"Free Willy 2\")\n",
       "19715 -0.261667   Okkervil River                                  Pop Lie\n",
       "5474  -0.271667  Black Eyed Peas                               What It Is"
      ]
     },
     "execution_count": 21,
     "metadata": {},
     "output_type": "execute_result"
    }
   ],
   "source": [
    "user_interactions = pd.merge(\n",
    "    interactions.loc[user].sort_values(ascending=False).to_frame(\"time\"),\n",
    "    products, \n",
    "    left_index=True, \n",
    "    right_index=True, \n",
    "    how=\"inner\"\n",
    ")\n",
    "\n",
    "user_interactions[user_interactions[\"time\"] != 0]"
   ]
  },
  {
   "cell_type": "markdown",
   "metadata": {
    "tags": []
   },
   "source": [
    "## Подготавливаем рекомендации для продакшена"
   ]
  },
  {
   "cell_type": "code",
   "execution_count": 22,
   "metadata": {
    "tags": []
   },
   "outputs": [],
   "source": [
    "def recommend(user_id, scores, k):\n",
    "    return scores.loc[user_id].sort_values(ascending=False)[:k].index.tolist()"
   ]
  },
  {
   "cell_type": "code",
   "execution_count": 23,
   "metadata": {
    "tags": []
   },
   "outputs": [
    {
     "name": "stderr",
     "output_type": "stream",
     "text": [
      "100%|████████████████████████████████████████████████████████████████████████████████████████████████████████████████████████████████████████████| 9443/9443 [00:20<00:00, 462.08it/s]\n"
     ]
    }
   ],
   "source": [
    "users = data[\"user\"].unique()\n",
    "\n",
    "with open(BOTIFY_DATA_DIR + \"recommendations_ub.json\", \"w\") as rf:\n",
    "    for user in tqdm.tqdm(users):\n",
    "        recommendation = {\n",
    "            \"user\": int(user),\n",
    "            \"tracks\": recommend(user, scores, 100)\n",
    "        }\n",
    "        rf.write(json.dumps(recommendation) + \"\\n\")"
   ]
  },
  {
   "cell_type": "code",
   "execution_count": null,
   "metadata": {
    "tags": []
   },
   "outputs": [],
   "source": []
  }
 ],
 "metadata": {
  "kernelspec": {
   "display_name": "Python 3 (ipykernel)",
   "language": "python",
   "name": "python3"
  },
  "language_info": {
   "codemirror_mode": {
    "name": "ipython",
    "version": 3
   },
   "file_extension": ".py",
   "mimetype": "text/x-python",
   "name": "python",
   "nbconvert_exporter": "python",
   "pygments_lexer": "ipython3",
   "version": "3.7.2"
  }
 },
 "nbformat": 4,
 "nbformat_minor": 4
}
